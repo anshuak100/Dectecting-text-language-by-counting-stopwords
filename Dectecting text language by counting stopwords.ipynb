{
 "cells": [
  {
   "cell_type": "markdown",
   "metadata": {},
   "source": [
    "# Dectecting text language by counting stopwords"
   ]
  },
  {
   "cell_type": "code",
   "execution_count": 1,
   "metadata": {},
   "outputs": [],
   "source": [
    "import sys\n",
    "from nltk.tokenize import wordpunct_tokenize\n",
    "from nltk.corpus import stopwords\n",
    "import re"
   ]
  },
  {
   "cell_type": "code",
   "execution_count": 2,
   "metadata": {},
   "outputs": [],
   "source": [
    "text = \"Yo man, it's time for you to shut yo' mouth! I ain't even messin' dawg.\""
   ]
  },
  {
   "cell_type": "code",
   "execution_count": 3,
   "metadata": {},
   "outputs": [
    {
     "data": {
      "text/plain": [
       "['Yo',\n",
       " 'man',\n",
       " ',',\n",
       " 'it',\n",
       " \"'\",\n",
       " 's',\n",
       " 'time',\n",
       " 'for',\n",
       " 'you',\n",
       " 'to',\n",
       " 'shut',\n",
       " 'yo',\n",
       " \"'\",\n",
       " 'mouth',\n",
       " '!',\n",
       " 'I',\n",
       " 'ain',\n",
       " \"'\",\n",
       " 't',\n",
       " 'even',\n",
       " 'messin',\n",
       " \"'\",\n",
       " 'dawg',\n",
       " '.']"
      ]
     },
     "execution_count": 3,
     "metadata": {},
     "output_type": "execute_result"
    }
   ],
   "source": [
    "text_tokens = wordpunct_tokenize(text)\n",
    "text_tokens"
   ]
  },
  {
   "cell_type": "code",
   "execution_count": 7,
   "metadata": {},
   "outputs": [],
   "source": []
  },
  {
   "cell_type": "code",
   "execution_count": 8,
   "metadata": {},
   "outputs": [
    {
     "data": {
      "text/plain": [
       "'Stopwords Corpus This corpus contains lists of stop words for several languages. These are high-frequency grammatical words which are usually ignored in text retrieval applications. They were obtained from: http://anoncvs.postgresql.org/cvsweb.cgi/pgsql/src/backend/snowball/stopwords/ The stop words for the Romanian language were obtained from: http://arlc.ro/resources/ The English list has been augmented https://github.com/nltk/nltk_data/issues/22 The German list has been corrected https://github.com/nltk/nltk_data/pull/49 A Kazakh list has been added https://github.com/nltk/nltk_data/pull/52 A Nepali list has been added https://github.com/nltk/nltk_data/pull/83 An Azerbaijani list has been added https://github.com/nltk/nltk_data/pull/100 A Greek list has been added https://github.com/nltk/nltk_data/pull/103 An Indonesian list has been added https://github.com/nltk/nltk_data/pull/112 '"
      ]
     },
     "execution_count": 8,
     "metadata": {},
     "output_type": "execute_result"
    }
   ],
   "source": [
    "re.sub(r'  +', ' ', stopwords.readme().replace('\\n',' '))"
   ]
  },
  {
   "cell_type": "code",
   "execution_count": 9,
   "metadata": {},
   "outputs": [
    {
     "data": {
      "text/plain": [
       "['arabic',\n",
       " 'azerbaijani',\n",
       " 'danish',\n",
       " 'dutch',\n",
       " 'english',\n",
       " 'finnish',\n",
       " 'french',\n",
       " 'german',\n",
       " 'greek',\n",
       " 'hungarian',\n",
       " 'indonesian',\n",
       " 'italian',\n",
       " 'kazakh',\n",
       " 'nepali',\n",
       " 'norwegian',\n",
       " 'portuguese',\n",
       " 'romanian',\n",
       " 'russian',\n",
       " 'spanish',\n",
       " 'swedish',\n",
       " 'turkish']"
      ]
     },
     "execution_count": 9,
     "metadata": {},
     "output_type": "execute_result"
    }
   ],
   "source": [
    "stopwords.fileids()"
   ]
  },
  {
   "cell_type": "code",
   "execution_count": 12,
   "metadata": {},
   "outputs": [
    {
     "data": {
      "text/plain": [
       "\"i, me, my, myself, we, our, ours, ourselves, you, you're, you've, you'll, you'd, your, yours, yourself, yourselves, he, him, his, himself, she, she's, her, hers, herself, it, it's, its, itself, they, them, their, theirs, themselves, what, which, who, whom, this, that, that'll, these, those, am, is, are, was, were, be, been, being, have, has, had, having, do, does, did, doing, a, an, the, and, but, if, or, because, as, until, while, of, at, by, for, with, about, against, between, into, through, during, before, after, above, below, to, from, up, down, in, out, on, off, over, under, again, further, then, once, here, there, when, where, why, how, all, any, both, each, few, more, most, other, some, such, no, nor, not, only, own, same, so, than, too, very, s, t, can, will, just, don, don't, should, should've, now, d, ll, m, o, re, ve, y, ain, aren, aren't, couldn, couldn't, didn, didn't, doesn, doesn't, hadn, hadn't, hasn, hasn't, haven, haven't, isn, isn't, ma, mightn, mightn't, mustn, mustn't, needn, needn't, shan, shan't, shouldn, shouldn't, wasn, wasn't, weren, weren't, won, won't, wouldn, wouldn't, \""
      ]
     },
     "execution_count": 12,
     "metadata": {},
     "output_type": "execute_result"
    }
   ],
   "source": [
    "stopwords.raw('english').replace('\\n',', ')"
   ]
  },
  {
   "cell_type": "code",
   "execution_count": 13,
   "metadata": {},
   "outputs": [
    {
     "data": {
      "text/plain": [
       "'छ, र, पनि, छन्, लागि, भएको, गरेको, भने, गर्न, गर्ने, हो, तथा, यो, रहेको, उनले, थियो, हुने, गरेका, थिए, गर्दै, तर, नै, को, मा, हुन्, भन्ने, हुन, गरी, त, हुन्छ, अब, के, रहेका, गरेर, छैन, दिए, भए, यस, ले, गर्नु, औं, सो, त्यो, कि, जुन, यी, का, गरि, ती, न, छु, छौं, लाई, नि, उप, अक्सर, आदि, कसरी, क्रमशः, चाले, अगाडी, अझै, अनुसार, अन्तर्गत, अन्य, अन्यत्र, अन्यथा, अरु, अरुलाई, अर्को, अर्थात, अर्थात्, अलग, आए, आजको, ओठ, आत्म, आफू, आफूलाई, आफ्नै, आफ्नो, आयो, उदाहरण, उनको, उहालाई, एउटै, एक, एकदम, कतै, कम से कम, कसै, कसैले, कहाँबाट, कहिलेकाहीं, का, किन, किनभने, कुनै, कुरा, कृपया, केही, कोही, गए, गरौं, गर्छ, गर्छु, गर्नुपर्छ, गयौ, गैर, चार, चाहनुहुन्छ, चाहन्छु, चाहिए, छू, जताततै, जब, जबकि, जसको, जसबाट, जसमा, जसलाई, जसले, जस्तै, जस्तो, जस्तोसुकै, जहाँ, जान, जाहिर, जे, जो, ठीक, तत्काल, तदनुसार, तपाईको, तपाई, पर्याप्त, पहिले, पहिलो, पहिल्यै, पाँच, पाँचौं, तल, तापनी, तिनी, तिनीहरू, तिनीहरुको, तिनिहरुलाई, तिमी, तिर, तीन, तुरुन्तै, तेस्रो, तेस्कारण, पूर्व, प्रति, प्रतेक, प्लस, फेरी, बने, त्सपछि, त्सैले, त्यहाँ, थिएन, दिनुभएको, दिनुहुन्छ, दुई, देखि, बरु, बारे, बाहिर, देखिन्छ, देखियो, देखे, देखेको, देखेर, दोस्रो, धेरै, नजिकै, नत्र, नयाँ, निम्ति, बाहेक, बीच, बीचमा, भन, निम्न, निम्नानुसार, निर्दिष्ट, नौ, पक्का, पक्कै, पछि, पछिल्लो, पटक, पर्छ, पर्थ्यो, भन्छन्, भन्, भन्छु, भन्दा, भन्नुभयो, भर, भित्र, भित्री, म, मलाई, मात्र, माथि, मुख्य, मेरो, यति, यथोचित, यदि, यद्यपि, यसको, यसपछि, यसबाहेक, यसरी, यसो, यस्तो, यहाँ, यहाँसम्म, या, रही, राखे, राख्छ, राम्रो, रूप, लगभग, वरीपरी, वास्तवमा, बिरुद्ध, बिशेष, सायद, शायद, संग, संगै, सक्छ, सट्टा, सधै, सबै, सबैलाई, समय, सम्भव, सम्म, सही, साँच्चै, सात, साथ, साथै, सारा, सोही, स्पष्ट, हरे, हरेक'"
      ]
     },
     "execution_count": 13,
     "metadata": {},
     "output_type": "execute_result"
    }
   ],
   "source": [
    "stopwords.raw('nepali').replace('\\n',', ')"
   ]
  },
  {
   "cell_type": "code",
   "execution_count": 14,
   "metadata": {},
   "outputs": [
    {
     "data": {
      "text/plain": [
       "\"αλλα, αν, αντι, απο, αυτα, αυτεσ, αυτη, αυτο, αυτοι, αυτοσ, αυτουσ, αυτων, αἱ, αἳ, αἵ, αὐτόσ, αὐτὸς, αὖ, γάρ, γα, γα^, γε, για, γοῦν, γὰρ, δ', δέ, δή, δαί, δαίσ, δαὶ, δαὶς, δε, δεν, δι', διά, διὰ, δὲ, δὴ, δ’, εαν, ειμαι, ειμαστε, ειναι, εισαι, ειστε, εκεινα, εκεινεσ, εκεινη, εκεινο, εκεινοι, εκεινοσ, εκεινουσ, εκεινων, ενω, επ, επι, εἰ, εἰμί, εἰμὶ, εἰς, εἰσ, εἴ, εἴμι, εἴτε, η, θα, ισωσ, κ, καί, καίτοι, καθ, και, κατ, κατά, κατα, κατὰ, καὶ, κι, κἀν, κἂν, μέν, μή, μήτε, μα, με, μεθ, μετ, μετά, μετα, μετὰ, μη, μην, μἐν, μὲν, μὴ, μὴν, να, ο, οι, ομωσ, οπωσ, οσο, οτι, οἱ, οἳ, οἷς, οὐ, οὐδ, οὐδέ, οὐδείσ, οὐδεὶς, οὐδὲ, οὐδὲν, οὐκ, οὐχ, οὐχὶ, οὓς, οὔτε, οὕτω, οὕτως, οὕτωσ, οὖν, οὗ, οὗτος, οὗτοσ, παρ, παρά, παρα, παρὰ, περί, περὶ, ποια, ποιεσ, ποιο, ποιοι, ποιοσ, ποιουσ, ποιων, ποτε, που, ποῦ, προ, προσ, πρόσ, πρὸ, πρὸς, πως, πωσ, σε, στη, στην, στο, στον, σόσ, σύ, σύν, σὸς, σὺ, σὺν, τά, τήν, τί, τίς, τίσ, τα, ταῖς, τε, την, τησ, τι, τινα, τις, τισ, το, τοί, τοι, τοιοῦτος, τοιοῦτοσ, τον, τοτε, του, τούσ, τοὺς, τοῖς, τοῦ, των, τό, τόν, τότε, τὰ, τὰς, τὴν, τὸ, τὸν, τῆς, τῆσ, τῇ, τῶν, τῷ, ωσ, ἀλλ', ἀλλά, ἀλλὰ, ἀλλ’, ἀπ, ἀπό, ἀπὸ, ἀφ, ἂν, ἃ, ἄλλος, ἄλλοσ, ἄν, ἄρα, ἅμα, ἐάν, ἐγώ, ἐγὼ, ἐκ, ἐμόσ, ἐμὸς, ἐν, ἐξ, ἐπί, ἐπεὶ, ἐπὶ, ἐστι, ἐφ, ἐὰν, ἑαυτοῦ, ἔτι, ἡ, ἢ, ἣ, ἤ, ἥ, ἧς, ἵνα, ὁ, ὃ, ὃν, ὃς, ὅ, ὅδε, ὅθεν, ὅπερ, ὅς, ὅσ, ὅστις, ὅστισ, ὅτε, ὅτι, ὑμόσ, ὑπ, ὑπέρ, ὑπό, ὑπὲρ, ὑπὸ, ὡς, ὡσ, ὥς, ὥστε, ὦ, ᾧ, \""
      ]
     },
     "execution_count": 14,
     "metadata": {},
     "output_type": "execute_result"
    }
   ],
   "source": [
    "stopwords.raw('greek').replace('\\n',', ')"
   ]
  },
  {
   "cell_type": "code",
   "execution_count": 17,
   "metadata": {},
   "outputs": [
    {
     "data": {
      "text/plain": [
       "['i', 'me', 'my', 'myself', 'we']"
      ]
     },
     "execution_count": 17,
     "metadata": {},
     "output_type": "execute_result"
    }
   ],
   "source": [
    "english_stopwords = stopwords.words('english')\n",
    "english_stopwords[:5]"
   ]
  },
  {
   "cell_type": "markdown",
   "metadata": {},
   "source": [
    "## Classification"
   ]
  },
  {
   "cell_type": "code",
   "execution_count": 18,
   "metadata": {},
   "outputs": [],
   "source": [
    "belonging_lang = {}\n",
    "\n",
    "for lang in stopwords.fileids():\n",
    "    stop_words = set(stopwords.words(lang))\n",
    "    belonging_lang[lang] = len(stop_words.intersection(set(text_tokens)))"
   ]
  },
  {
   "cell_type": "code",
   "execution_count": 19,
   "metadata": {},
   "outputs": [
    {
     "data": {
      "text/plain": [
       "{'arabic': 0,\n",
       " 'azerbaijani': 0,\n",
       " 'danish': 2,\n",
       " 'dutch': 0,\n",
       " 'english': 7,\n",
       " 'finnish': 0,\n",
       " 'french': 2,\n",
       " 'german': 1,\n",
       " 'greek': 0,\n",
       " 'hungarian': 1,\n",
       " 'indonesian': 0,\n",
       " 'italian': 0,\n",
       " 'kazakh': 0,\n",
       " 'nepali': 0,\n",
       " 'norwegian': 2,\n",
       " 'portuguese': 1,\n",
       " 'romanian': 1,\n",
       " 'russian': 0,\n",
       " 'spanish': 1,\n",
       " 'swedish': 1,\n",
       " 'turkish': 0}"
      ]
     },
     "execution_count": 19,
     "metadata": {},
     "output_type": "execute_result"
    }
   ],
   "source": [
    "belonging_lang"
   ]
  },
  {
   "cell_type": "code",
   "execution_count": 23,
   "metadata": {},
   "outputs": [
    {
     "name": "stdout",
     "output_type": "stream",
     "text": [
      "Maximum stopwords belongs to :  english  , total :  7\n"
     ]
    }
   ],
   "source": [
    "language = max(belonging_lang, key=belonging_lang.get)\n",
    "print('Maximum stopwords belongs to : ', language, ' , total : ', belonging_lang[language])"
   ]
  },
  {
   "cell_type": "code",
   "execution_count": null,
   "metadata": {},
   "outputs": [],
   "source": []
  }
 ],
 "metadata": {
  "kernelspec": {
   "display_name": "Python 3",
   "language": "python",
   "name": "python3"
  },
  "language_info": {
   "codemirror_mode": {
    "name": "ipython",
    "version": 3
   },
   "file_extension": ".py",
   "mimetype": "text/x-python",
   "name": "python",
   "nbconvert_exporter": "python",
   "pygments_lexer": "ipython3",
   "version": "3.7.3"
  }
 },
 "nbformat": 4,
 "nbformat_minor": 2
}
